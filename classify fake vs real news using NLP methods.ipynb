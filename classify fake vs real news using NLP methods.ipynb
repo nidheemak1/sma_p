{
  "nbformat": 4,
  "nbformat_minor": 0,
  "metadata": {
    "colab": {
      "provenance": []
    },
    "kernelspec": {
      "name": "python3",
      "display_name": "Python 3"
    },
    "language_info": {
      "name": "python"
    }
  },
  "cells": [
    {
      "cell_type": "markdown",
      "source": [
        "# Practical - 14 : Use news headlines to classify fake vs real news using NLP methods."
      ],
      "metadata": {
        "id": "6KceK9P1Y2F-"
      }
    },
    {
      "cell_type": "code",
      "source": [
        "import pandas as pd"
      ],
      "metadata": {
        "id": "PLGUQNP-Y5ez"
      },
      "execution_count": null,
      "outputs": []
    },
    {
      "cell_type": "code",
      "source": [
        "fake = pd.read_csv('/content/Fake.csv')\n",
        "real = pd.read_csv('/content/True.csv')"
      ],
      "metadata": {
        "id": "o7aeB7U2Y8IB"
      },
      "execution_count": null,
      "outputs": []
    },
    {
      "cell_type": "code",
      "source": [
        "fake['label'] = 0\n",
        "real['label'] = 1\n",
        "\n",
        "df = pd.concat([fake[['title', 'label']], real[['title', 'label']]], ignore_index=True).dropna()\n",
        "df = df.sample(frac=1, random_state=42).reset_index(drop=True)"
      ],
      "metadata": {
        "id": "QN4KyWojaCFX"
      },
      "execution_count": null,
      "outputs": []
    },
    {
      "cell_type": "code",
      "source": [
        "import re\n",
        "\n",
        "def clean_text(text):\n",
        "    text = re.sub(r'[^a-zA-Z\\s]', '', text)\n",
        "    return text.lower().strip()\n",
        "\n",
        "df['clean_title'] = df['title'].apply(clean_text)\n"
      ],
      "metadata": {
        "id": "i96rNIraaUAB"
      },
      "execution_count": null,
      "outputs": []
    },
    {
      "cell_type": "code",
      "source": [
        "from sklearn.feature_extraction.text import TfidfVectorizer\n",
        "\n",
        "vectorizer = TfidfVectorizer(stop_words='english', max_df=0.7)\n",
        "X = vectorizer.fit_transform(df['clean_title'])\n",
        "y = df['label']\n"
      ],
      "metadata": {
        "id": "EiyMs1mTaXS6"
      },
      "execution_count": null,
      "outputs": []
    },
    {
      "cell_type": "code",
      "source": [
        "from sklearn.model_selection import train_test_split\n",
        "\n",
        "X_train, X_test, y_train, y_test = train_test_split(X, y, test_size=0.2, random_state=42)"
      ],
      "metadata": {
        "id": "SQDOUG5OaYtn"
      },
      "execution_count": null,
      "outputs": []
    },
    {
      "cell_type": "code",
      "source": [
        "from sklearn.linear_model import LogisticRegression\n",
        "from sklearn.metrics import classification_report, accuracy_score\n",
        "\n",
        "model = LogisticRegression()\n",
        "model.fit(X_train, y_train)\n",
        "\n",
        "# Evaluate\n",
        "y_pred = model.predict(X_test)\n",
        "print(\"Accuracy:\", accuracy_score(y_test, y_pred))\n",
        "print(\"Classification Report:\\n\", classification_report(y_test, y_pred))"
      ],
      "metadata": {
        "colab": {
          "base_uri": "https://localhost:8080/"
        },
        "id": "7sHAFizPabXu",
        "outputId": "359f3e2e-c765-4eba-b001-4b11416d8743"
      },
      "execution_count": null,
      "outputs": [
        {
          "output_type": "stream",
          "name": "stdout",
          "text": [
            "Accuracy: 0.9474387527839644\n",
            "Classification Report:\n",
            "               precision    recall  f1-score   support\n",
            "\n",
            "           0       0.96      0.94      0.95      4710\n",
            "           1       0.93      0.96      0.95      4270\n",
            "\n",
            "    accuracy                           0.95      8980\n",
            "   macro avg       0.95      0.95      0.95      8980\n",
            "weighted avg       0.95      0.95      0.95      8980\n",
            "\n"
          ]
        }
      ]
    },
    {
      "cell_type": "code",
      "source": [
        "import numpy as np\n",
        "\n",
        "feature_names = vectorizer.get_feature_names_out()\n",
        "coefs = model.coef_[0]\n",
        "top_fake = np.argsort(coefs)[:10]\n",
        "top_real = np.argsort(coefs)[-10:]\n",
        "\n",
        "print(\"Top indicative words for fake news:\")\n",
        "print([feature_names[i] for i in top_fake])\n",
        "print(\"\\nTop indicative words for real news:\")\n",
        "print([feature_names[i] for i in top_real])\n"
      ],
      "metadata": {
        "colab": {
          "base_uri": "https://localhost:8080/"
        },
        "id": "-cKaYxldab98",
        "outputId": "4799a484-e0a8-4e4a-bd87-a206c02653d8"
      },
      "execution_count": null,
      "outputs": [
        {
          "output_type": "stream",
          "name": "stdout",
          "text": [
            "Top indicative words for fake news:\n",
            "['video', 'watch', 'breaking', 'just', 'hillary', 'gop', 'muslim', 'tweets', 'obamas', 'racist']\n",
            "\n",
            "Top indicative words for real news:\n",
            "['lawmakers', 'north', 'pm', 'china', 'urges', 'talks', 'senate', 'house', 'factbox', 'says']\n"
          ]
        }
      ]
    },
    {
      "cell_type": "code",
      "source": [
        "import re\n",
        "\n",
        "# Custom headline\n",
        "test_headline = [\"NASA discovers signs of ancient microbial life on Mars\"]\n",
        "\n",
        "# Clean the headline\n",
        "def clean_text(text):\n",
        "    text = re.sub(r'[^a-zA-Z\\s]', '', str(text))\n",
        "    return text.lower().strip()\n",
        "\n",
        "cleaned_headline = [clean_text(headline) for headline in test_headline]\n",
        "\n",
        "# Use the original vectorizer (already fit on training data)\n",
        "X_new = vectorizer.transform(cleaned_headline)\n",
        "\n",
        "# Predict\n",
        "prediction = model.predict(X_new)[0]\n",
        "label = \"Real\" if prediction == 1 else \"Fake\"\n",
        "\n",
        "print(f\"The model predicts this headline is: {label}\")"
      ],
      "metadata": {
        "colab": {
          "base_uri": "https://localhost:8080/"
        },
        "id": "TKt8IkUmbO9S",
        "outputId": "2620bd4a-2bf4-455d-e13c-efe1b131f1a9"
      },
      "execution_count": null,
      "outputs": [
        {
          "output_type": "stream",
          "name": "stdout",
          "text": [
            "The model predicts this headline is: Real\n"
          ]
        }
      ]
    },
    {
      "cell_type": "code",
      "source": [],
      "metadata": {
        "id": "96khl4KUbikg"
      },
      "execution_count": null,
      "outputs": []
    }
  ]
}
