{
  "nbformat": 4,
  "nbformat_minor": 0,
  "metadata": {
    "colab": {
      "provenance": []
    },
    "kernelspec": {
      "name": "python3",
      "display_name": "Python 3"
    },
    "language_info": {
      "name": "python"
    }
  },
  "cells": [
    {
      "cell_type": "code",
      "execution_count": null,
      "metadata": {
        "id": "0ogSooOarnBh"
      },
      "outputs": [],
      "source": [
        "import pandas as pd\n",
        "import networkx as nx"
      ]
    },
    {
      "cell_type": "code",
      "source": [
        "G = nx.read_edgelist('facebook_combined.txt', create_using=nx.Graph(), nodetype=int)"
      ],
      "metadata": {
        "id": "Rfmg_SuLr4aX"
      },
      "execution_count": null,
      "outputs": []
    },
    {
      "cell_type": "code",
      "source": [
        "degree_centrality = nx.degree_centrality(G)\n",
        "closeness_centrality = nx.closeness_centrality(G)\n",
        "eigenvector_centrality = nx.eigenvector_centrality(G, max_iter=1000)"
      ],
      "metadata": {
        "id": "GXwJGu9RsRXW"
      },
      "execution_count": null,
      "outputs": []
    },
    {
      "cell_type": "code",
      "source": [
        "centrality_df = pd.DataFrame({\n",
        "    'Degree Centrality': degree_centrality,\n",
        "    'Closeness Centrality': closeness_centrality,\n",
        "    'Eigenvector Centrality': eigenvector_centrality\n",
        "})"
      ],
      "metadata": {
        "id": "5LF7IczysTCm"
      },
      "execution_count": null,
      "outputs": []
    },
    {
      "cell_type": "code",
      "source": [
        "print(centrality_df.sort_values('Eigenvector Centrality', ascending=False).head())"
      ],
      "metadata": {
        "colab": {
          "base_uri": "https://localhost:8080/"
        },
        "id": "ad6aJF-OsUoL",
        "outputId": "cc54e7fa-f09d-4c50-f454-0f354cf2320c"
      },
      "execution_count": null,
      "outputs": [
        {
          "output_type": "stream",
          "name": "stdout",
          "text": [
            "      Degree Centrality  Closeness Centrality  Eigenvector Centrality\n",
            "1912           0.186974              0.350947                0.095407\n",
            "2266           0.057949              0.281708                0.086983\n",
            "2206           0.052006              0.263336                0.086052\n",
            "2233           0.054978              0.263543                0.085173\n",
            "2464           0.050025              0.263199                0.084279\n"
          ]
        }
      ]
    },
    {
      "cell_type": "markdown",
      "source": [
        "# Interpretation"
      ],
      "metadata": {
        "id": "MAd_lmKysakv"
      }
    },
    {
      "cell_type": "markdown",
      "source": [
        "Interpreting the Results\n",
        "\n",
        "High Degree Centrality: Nodes with many direct connections. These individuals are popular and can influence their immediate network.\n",
        "\n",
        "High Closeness Centrality: Nodes that can reach others in the network more quickly. They are efficient in spreading information.\n",
        "\n",
        "High Eigenvector Centrality: Nodes connected to other highly connected nodes. They hold strategic positions in the network, often acting as influential connectors."
      ],
      "metadata": {
        "id": "YkMTcZN9sdpn"
      }
    },
    {
      "cell_type": "code",
      "source": [],
      "metadata": {
        "id": "GSYtPBqPsgd2"
      },
      "execution_count": null,
      "outputs": []
    }
  ]
}